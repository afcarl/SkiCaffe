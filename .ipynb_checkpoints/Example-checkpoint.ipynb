{
 "cells": [
  {
   "cell_type": "code",
   "execution_count": 1,
   "metadata": {
    "collapsed": true
   },
   "outputs": [],
   "source": [
    "from skicaffe import SkiCaffe"
   ]
  },
  {
   "cell_type": "code",
   "execution_count": 2,
   "metadata": {
    "collapsed": false
   },
   "outputs": [
    {
     "name": "stdout",
     "output_type": "stream",
     "text": [
      "caffe imported successfully\n"
     ]
    }
   ],
   "source": [
    "caffe_features = SkiCaffe('/usr/local/src/caffe/caffe-master/')"
   ]
  },
  {
   "cell_type": "code",
   "execution_count": 3,
   "metadata": {
    "collapsed": true
   },
   "outputs": [],
   "source": [
    "caffe_root = '/usr/local/src/caffe/caffe-master/'\n",
    "# Model prototxt file\n",
    "model_prototxt = caffe_root + 'models/bvlc_googlenet/deploy.prototxt'\n",
    "# Model caffemodel file\n",
    "model_trained = caffe_root + 'models/bvlc_googlenet/bvlc_googlenet.caffemodel'\n",
    "# File containing the class labels\n",
    "imagenet_labels = caffe_root + 'data/ilsvrc12/synset_words.txt'\n",
    "# Path to the mean image (used for input processing\n",
    "mean_path = caffe_root + 'python/caffe/imagenet/ilsvrc_2012_mean.npy'"
   ]
  },
  {
   "cell_type": "code",
   "execution_count": 4,
   "metadata": {
    "collapsed": false
   },
   "outputs": [
    {
     "name": "stdout",
     "output_type": "stream",
     "text": [
      "net loaded successfully\n",
      "labels loaded successfully\n"
     ]
    }
   ],
   "source": [
    "caffe_features.fit(model_prototxt, model_trained, imagenet_labels, mean_path)"
   ]
  },
  {
   "cell_type": "code",
   "execution_count": 5,
   "metadata": {
    "collapsed": false
   },
   "outputs": [],
   "source": [
    "image_paths = ['/usr/local/src/caffe/caffe-master/examples/images/cat.jpg', '/home/myazdani/Documents/wifire/interesting/20140702/Q5/1404329745.jpg']"
   ]
  },
  {
   "cell_type": "code",
   "execution_count": 6,
   "metadata": {
    "collapsed": false
   },
   "outputs": [
    {
     "name": "stdout",
     "output_type": "stream",
     "text": [
      "cat.jpg  :  n02123159 tiger cat  ( 0.440555 )\n",
      "1404329745.jpg  :  n09246464 cliff, drop, drop-off  ( 0.211027 )\n"
     ]
    }
   ],
   "source": [
    "res = caffe_features.transform(layer_name = 'pool5/7x7_s1', image_paths = image_paths)"
   ]
  },
  {
   "cell_type": "code",
   "execution_count": 9,
   "metadata": {
    "collapsed": false
   },
   "outputs": [
    {
     "data": {
      "text/html": [
       "<div style=\"max-height:1000px;max-width:1500px;overflow:auto;\">\n",
       "<table border=\"1\" class=\"dataframe\">\n",
       "  <thead>\n",
       "    <tr style=\"text-align: right;\">\n",
       "      <th></th>\n",
       "      <th>pool5/7x7_s1.0</th>\n",
       "      <th>pool5/7x7_s1.1</th>\n",
       "      <th>pool5/7x7_s1.2</th>\n",
       "      <th>pool5/7x7_s1.3</th>\n",
       "      <th>pool5/7x7_s1.4</th>\n",
       "      <th>pool5/7x7_s1.5</th>\n",
       "      <th>pool5/7x7_s1.6</th>\n",
       "      <th>pool5/7x7_s1.7</th>\n",
       "      <th>pool5/7x7_s1.8</th>\n",
       "      <th>pool5/7x7_s1.9</th>\n",
       "      <th>...</th>\n",
       "      <th>pool5/7x7_s1.1014</th>\n",
       "      <th>pool5/7x7_s1.1015</th>\n",
       "      <th>pool5/7x7_s1.1016</th>\n",
       "      <th>pool5/7x7_s1.1017</th>\n",
       "      <th>pool5/7x7_s1.1018</th>\n",
       "      <th>pool5/7x7_s1.1019</th>\n",
       "      <th>pool5/7x7_s1.1020</th>\n",
       "      <th>pool5/7x7_s1.1021</th>\n",
       "      <th>pool5/7x7_s1.1022</th>\n",
       "      <th>pool5/7x7_s1.1023</th>\n",
       "    </tr>\n",
       "  </thead>\n",
       "  <tbody>\n",
       "    <tr>\n",
       "      <th>0</th>\n",
       "      <td> 0.007986</td>\n",
       "      <td> 0</td>\n",
       "      <td> 0.011032</td>\n",
       "      <td> 0.281442</td>\n",
       "      <td> 0</td>\n",
       "      <td> 0</td>\n",
       "      <td> 0.00267</td>\n",
       "      <td> 0.081272</td>\n",
       "      <td> 0</td>\n",
       "      <td> 0</td>\n",
       "      <td>...</td>\n",
       "      <td> 0</td>\n",
       "      <td> 0</td>\n",
       "      <td> 0</td>\n",
       "      <td> 0</td>\n",
       "      <td> 0.012017</td>\n",
       "      <td> 0.350935</td>\n",
       "      <td> 0.456331</td>\n",
       "      <td> 0.023049</td>\n",
       "      <td> 0.069722</td>\n",
       "      <td> 0</td>\n",
       "    </tr>\n",
       "    <tr>\n",
       "      <th>1</th>\n",
       "      <td> 0.007986</td>\n",
       "      <td> 0</td>\n",
       "      <td> 0.011032</td>\n",
       "      <td> 0.281442</td>\n",
       "      <td> 0</td>\n",
       "      <td> 0</td>\n",
       "      <td> 0.00267</td>\n",
       "      <td> 0.081272</td>\n",
       "      <td> 0</td>\n",
       "      <td> 0</td>\n",
       "      <td>...</td>\n",
       "      <td> 0</td>\n",
       "      <td> 0</td>\n",
       "      <td> 0</td>\n",
       "      <td> 0</td>\n",
       "      <td> 0.012017</td>\n",
       "      <td> 0.350935</td>\n",
       "      <td> 0.456331</td>\n",
       "      <td> 0.023049</td>\n",
       "      <td> 0.069722</td>\n",
       "      <td> 0</td>\n",
       "    </tr>\n",
       "  </tbody>\n",
       "</table>\n",
       "<p>2 rows × 1024 columns</p>\n",
       "</div>"
      ],
      "text/plain": [
       "   pool5/7x7_s1.0  pool5/7x7_s1.1  pool5/7x7_s1.2  pool5/7x7_s1.3  \\\n",
       "0        0.007986               0        0.011032        0.281442   \n",
       "1        0.007986               0        0.011032        0.281442   \n",
       "\n",
       "   pool5/7x7_s1.4  pool5/7x7_s1.5  pool5/7x7_s1.6  pool5/7x7_s1.7  \\\n",
       "0               0               0         0.00267        0.081272   \n",
       "1               0               0         0.00267        0.081272   \n",
       "\n",
       "   pool5/7x7_s1.8  pool5/7x7_s1.9       ...        pool5/7x7_s1.1014  \\\n",
       "0               0               0       ...                        0   \n",
       "1               0               0       ...                        0   \n",
       "\n",
       "   pool5/7x7_s1.1015  pool5/7x7_s1.1016  pool5/7x7_s1.1017  pool5/7x7_s1.1018  \\\n",
       "0                  0                  0                  0           0.012017   \n",
       "1                  0                  0                  0           0.012017   \n",
       "\n",
       "   pool5/7x7_s1.1019  pool5/7x7_s1.1020  pool5/7x7_s1.1021  pool5/7x7_s1.1022  \\\n",
       "0           0.350935           0.456331           0.023049           0.069722   \n",
       "1           0.350935           0.456331           0.023049           0.069722   \n",
       "\n",
       "   pool5/7x7_s1.1023  \n",
       "0                  0  \n",
       "1                  0  \n",
       "\n",
       "[2 rows x 1024 columns]"
      ]
     },
     "execution_count": 9,
     "metadata": {},
     "output_type": "execute_result"
    }
   ],
   "source": [
    "res.head()"
   ]
  },
  {
   "cell_type": "code",
   "execution_count": null,
   "metadata": {
    "collapsed": true
   },
   "outputs": [],
   "source": []
  }
 ],
 "metadata": {
  "kernelspec": {
   "display_name": "Python 2",
   "language": "python",
   "name": "python2"
  },
  "language_info": {
   "codemirror_mode": {
    "name": "ipython",
    "version": 2
   },
   "file_extension": ".py",
   "mimetype": "text/x-python",
   "name": "python",
   "nbconvert_exporter": "python",
   "pygments_lexer": "ipython2",
   "version": "2.7.9"
  }
 },
 "nbformat": 4,
 "nbformat_minor": 0
}
