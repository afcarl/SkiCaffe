{
 "cells": [
  {
   "cell_type": "code",
   "execution_count": 1,
   "metadata": {
    "collapsed": true
   },
   "outputs": [],
   "source": [
    "from skicaffe import SkiCaffe"
   ]
  },
  {
   "cell_type": "code",
   "execution_count": 2,
   "metadata": {
    "collapsed": false
   },
   "outputs": [
    {
     "name": "stdout",
     "output_type": "stream",
     "text": [
      "caffe imported successfully\n"
     ]
    }
   ],
   "source": [
    "caffe_features = SkiCaffe('/usr/local/src/caffe/caffe-master/')"
   ]
  },
  {
   "cell_type": "code",
   "execution_count": 8,
   "metadata": {
    "collapsed": true
   },
   "outputs": [],
   "source": [
    "caffe_root = '/usr/local/src/caffe/caffe-master/'\n",
    "# Model prototxt file\n",
    "model_prototxt = caffe_root + 'models/bvlc_googlenet/deploy.prototxt'\n",
    "# Model caffemodel file\n",
    "model_trained = caffe_root + 'models/bvlc_googlenet/bvlc_googlenet.caffemodel'\n",
    "# File containing the class labels\n",
    "imagenet_labels = caffe_root + 'data/ilsvrc12/synset_words.txt'\n",
    "# Path to the mean image (used for input processing\n",
    "mean_path = caffe_root + 'python/caffe/imagenet/ilsvrc_2012_mean.npy'"
   ]
  },
  {
   "cell_type": "code",
   "execution_count": 4,
   "metadata": {
    "collapsed": false
   },
   "outputs": [],
   "source": [
    "# Model prototxt file\n",
    "model_prototxt = caffe_root + 'models/bvlc_reference_caffenet/deploy.prototxt'\n",
    "# Model caffemodel file\n",
    "model_trained = caffe_root + 'models/bvlc_reference_caffenet/bvlc_reference_caffenet.caffemodel'\n",
    "# File containing the class labels\n",
    "imagenet_labels = caffe_root + 'data/ilsvrc12/synset_words.txt'\n",
    "# Path to the mean image (used for input processing\n",
    "mean_path = caffe_root + 'python/caffe/imagenet/ilsvrc_2012_mean.npy'"
   ]
  },
  {
   "cell_type": "code",
   "execution_count": 9,
   "metadata": {
    "collapsed": false,
    "scrolled": true
   },
   "outputs": [
    {
     "name": "stdout",
     "output_type": "stream",
     "text": [
      "net loaded successfully\n",
      "labels loaded successfully\n"
     ]
    },
    {
     "data": {
      "text/plain": [
       "[('data', (10, 3, 224, 224)),\n",
       " ('conv1/7x7_s2', (10, 64, 112, 112)),\n",
       " ('pool1/3x3_s2', (10, 64, 56, 56)),\n",
       " ('pool1/norm1', (10, 64, 56, 56)),\n",
       " ('conv2/3x3_reduce', (10, 64, 56, 56)),\n",
       " ('conv2/3x3', (10, 192, 56, 56)),\n",
       " ('conv2/norm2', (10, 192, 56, 56)),\n",
       " ('pool2/3x3_s2', (10, 192, 28, 28)),\n",
       " ('pool2/3x3_s2_pool2/3x3_s2_0_split_0', (10, 192, 28, 28)),\n",
       " ('pool2/3x3_s2_pool2/3x3_s2_0_split_1', (10, 192, 28, 28)),\n",
       " ('pool2/3x3_s2_pool2/3x3_s2_0_split_2', (10, 192, 28, 28)),\n",
       " ('pool2/3x3_s2_pool2/3x3_s2_0_split_3', (10, 192, 28, 28)),\n",
       " ('inception_3a/1x1', (10, 64, 28, 28)),\n",
       " ('inception_3a/3x3_reduce', (10, 96, 28, 28)),\n",
       " ('inception_3a/3x3', (10, 128, 28, 28)),\n",
       " ('inception_3a/5x5_reduce', (10, 16, 28, 28)),\n",
       " ('inception_3a/5x5', (10, 32, 28, 28)),\n",
       " ('inception_3a/pool', (10, 192, 28, 28)),\n",
       " ('inception_3a/pool_proj', (10, 32, 28, 28)),\n",
       " ('inception_3a/output', (10, 256, 28, 28)),\n",
       " ('inception_3a/output_inception_3a/output_0_split_0', (10, 256, 28, 28)),\n",
       " ('inception_3a/output_inception_3a/output_0_split_1', (10, 256, 28, 28)),\n",
       " ('inception_3a/output_inception_3a/output_0_split_2', (10, 256, 28, 28)),\n",
       " ('inception_3a/output_inception_3a/output_0_split_3', (10, 256, 28, 28)),\n",
       " ('inception_3b/1x1', (10, 128, 28, 28)),\n",
       " ('inception_3b/3x3_reduce', (10, 128, 28, 28)),\n",
       " ('inception_3b/3x3', (10, 192, 28, 28)),\n",
       " ('inception_3b/5x5_reduce', (10, 32, 28, 28)),\n",
       " ('inception_3b/5x5', (10, 96, 28, 28)),\n",
       " ('inception_3b/pool', (10, 256, 28, 28)),\n",
       " ('inception_3b/pool_proj', (10, 64, 28, 28)),\n",
       " ('inception_3b/output', (10, 480, 28, 28)),\n",
       " ('pool3/3x3_s2', (10, 480, 14, 14)),\n",
       " ('pool3/3x3_s2_pool3/3x3_s2_0_split_0', (10, 480, 14, 14)),\n",
       " ('pool3/3x3_s2_pool3/3x3_s2_0_split_1', (10, 480, 14, 14)),\n",
       " ('pool3/3x3_s2_pool3/3x3_s2_0_split_2', (10, 480, 14, 14)),\n",
       " ('pool3/3x3_s2_pool3/3x3_s2_0_split_3', (10, 480, 14, 14)),\n",
       " ('inception_4a/1x1', (10, 192, 14, 14)),\n",
       " ('inception_4a/3x3_reduce', (10, 96, 14, 14)),\n",
       " ('inception_4a/3x3', (10, 208, 14, 14)),\n",
       " ('inception_4a/5x5_reduce', (10, 16, 14, 14)),\n",
       " ('inception_4a/5x5', (10, 48, 14, 14)),\n",
       " ('inception_4a/pool', (10, 480, 14, 14)),\n",
       " ('inception_4a/pool_proj', (10, 64, 14, 14)),\n",
       " ('inception_4a/output', (10, 512, 14, 14)),\n",
       " ('inception_4a/output_inception_4a/output_0_split_0', (10, 512, 14, 14)),\n",
       " ('inception_4a/output_inception_4a/output_0_split_1', (10, 512, 14, 14)),\n",
       " ('inception_4a/output_inception_4a/output_0_split_2', (10, 512, 14, 14)),\n",
       " ('inception_4a/output_inception_4a/output_0_split_3', (10, 512, 14, 14)),\n",
       " ('inception_4b/1x1', (10, 160, 14, 14)),\n",
       " ('inception_4b/3x3_reduce', (10, 112, 14, 14)),\n",
       " ('inception_4b/3x3', (10, 224, 14, 14)),\n",
       " ('inception_4b/5x5_reduce', (10, 24, 14, 14)),\n",
       " ('inception_4b/5x5', (10, 64, 14, 14)),\n",
       " ('inception_4b/pool', (10, 512, 14, 14)),\n",
       " ('inception_4b/pool_proj', (10, 64, 14, 14)),\n",
       " ('inception_4b/output', (10, 512, 14, 14)),\n",
       " ('inception_4b/output_inception_4b/output_0_split_0', (10, 512, 14, 14)),\n",
       " ('inception_4b/output_inception_4b/output_0_split_1', (10, 512, 14, 14)),\n",
       " ('inception_4b/output_inception_4b/output_0_split_2', (10, 512, 14, 14)),\n",
       " ('inception_4b/output_inception_4b/output_0_split_3', (10, 512, 14, 14)),\n",
       " ('inception_4c/1x1', (10, 128, 14, 14)),\n",
       " ('inception_4c/3x3_reduce', (10, 128, 14, 14)),\n",
       " ('inception_4c/3x3', (10, 256, 14, 14)),\n",
       " ('inception_4c/5x5_reduce', (10, 24, 14, 14)),\n",
       " ('inception_4c/5x5', (10, 64, 14, 14)),\n",
       " ('inception_4c/pool', (10, 512, 14, 14)),\n",
       " ('inception_4c/pool_proj', (10, 64, 14, 14)),\n",
       " ('inception_4c/output', (10, 512, 14, 14)),\n",
       " ('inception_4c/output_inception_4c/output_0_split_0', (10, 512, 14, 14)),\n",
       " ('inception_4c/output_inception_4c/output_0_split_1', (10, 512, 14, 14)),\n",
       " ('inception_4c/output_inception_4c/output_0_split_2', (10, 512, 14, 14)),\n",
       " ('inception_4c/output_inception_4c/output_0_split_3', (10, 512, 14, 14)),\n",
       " ('inception_4d/1x1', (10, 112, 14, 14)),\n",
       " ('inception_4d/3x3_reduce', (10, 144, 14, 14)),\n",
       " ('inception_4d/3x3', (10, 288, 14, 14)),\n",
       " ('inception_4d/5x5_reduce', (10, 32, 14, 14)),\n",
       " ('inception_4d/5x5', (10, 64, 14, 14)),\n",
       " ('inception_4d/pool', (10, 512, 14, 14)),\n",
       " ('inception_4d/pool_proj', (10, 64, 14, 14)),\n",
       " ('inception_4d/output', (10, 528, 14, 14)),\n",
       " ('inception_4d/output_inception_4d/output_0_split_0', (10, 528, 14, 14)),\n",
       " ('inception_4d/output_inception_4d/output_0_split_1', (10, 528, 14, 14)),\n",
       " ('inception_4d/output_inception_4d/output_0_split_2', (10, 528, 14, 14)),\n",
       " ('inception_4d/output_inception_4d/output_0_split_3', (10, 528, 14, 14)),\n",
       " ('inception_4e/1x1', (10, 256, 14, 14)),\n",
       " ('inception_4e/3x3_reduce', (10, 160, 14, 14)),\n",
       " ('inception_4e/3x3', (10, 320, 14, 14)),\n",
       " ('inception_4e/5x5_reduce', (10, 32, 14, 14)),\n",
       " ('inception_4e/5x5', (10, 128, 14, 14)),\n",
       " ('inception_4e/pool', (10, 528, 14, 14)),\n",
       " ('inception_4e/pool_proj', (10, 128, 14, 14)),\n",
       " ('inception_4e/output', (10, 832, 14, 14)),\n",
       " ('pool4/3x3_s2', (10, 832, 7, 7)),\n",
       " ('pool4/3x3_s2_pool4/3x3_s2_0_split_0', (10, 832, 7, 7)),\n",
       " ('pool4/3x3_s2_pool4/3x3_s2_0_split_1', (10, 832, 7, 7)),\n",
       " ('pool4/3x3_s2_pool4/3x3_s2_0_split_2', (10, 832, 7, 7)),\n",
       " ('pool4/3x3_s2_pool4/3x3_s2_0_split_3', (10, 832, 7, 7)),\n",
       " ('inception_5a/1x1', (10, 256, 7, 7)),\n",
       " ('inception_5a/3x3_reduce', (10, 160, 7, 7)),\n",
       " ('inception_5a/3x3', (10, 320, 7, 7)),\n",
       " ('inception_5a/5x5_reduce', (10, 32, 7, 7)),\n",
       " ('inception_5a/5x5', (10, 128, 7, 7)),\n",
       " ('inception_5a/pool', (10, 832, 7, 7)),\n",
       " ('inception_5a/pool_proj', (10, 128, 7, 7)),\n",
       " ('inception_5a/output', (10, 832, 7, 7)),\n",
       " ('inception_5a/output_inception_5a/output_0_split_0', (10, 832, 7, 7)),\n",
       " ('inception_5a/output_inception_5a/output_0_split_1', (10, 832, 7, 7)),\n",
       " ('inception_5a/output_inception_5a/output_0_split_2', (10, 832, 7, 7)),\n",
       " ('inception_5a/output_inception_5a/output_0_split_3', (10, 832, 7, 7)),\n",
       " ('inception_5b/1x1', (10, 384, 7, 7)),\n",
       " ('inception_5b/3x3_reduce', (10, 192, 7, 7)),\n",
       " ('inception_5b/3x3', (10, 384, 7, 7)),\n",
       " ('inception_5b/5x5_reduce', (10, 48, 7, 7)),\n",
       " ('inception_5b/5x5', (10, 128, 7, 7)),\n",
       " ('inception_5b/pool', (10, 832, 7, 7)),\n",
       " ('inception_5b/pool_proj', (10, 128, 7, 7)),\n",
       " ('inception_5b/output', (10, 1024, 7, 7)),\n",
       " ('pool5/7x7_s1', (10, 1024, 1, 1)),\n",
       " ('loss3/classifier', (10, 1000)),\n",
       " ('prob', (10, 1000))]"
      ]
     },
     "execution_count": 9,
     "metadata": {},
     "output_type": "execute_result"
    }
   ],
   "source": [
    "caffe_features.fit(model_prototxt, model_trained, imagenet_labels, mean_path)\n",
    "caffe_features.layer_sizes"
   ]
  },
  {
   "cell_type": "code",
   "execution_count": 10,
   "metadata": {
    "collapsed": false
   },
   "outputs": [],
   "source": [
    "image_paths = ['/usr/local/src/caffe/caffe-master/examples/images/cat.jpg', '/home/myazdani/Documents/wifire/interesting/20140702/Q5/1404329745.jpg']"
   ]
  },
  {
   "cell_type": "code",
   "execution_count": 15,
   "metadata": {
    "collapsed": false,
    "scrolled": true
   },
   "outputs": [
    {
     "name": "stdout",
     "output_type": "stream",
     "text": [
      "cat.jpg  :  n02123159 tiger cat  ( 0.440555 )\n",
      "1404329745.jpg  :  n09246464 cliff, drop, drop-off  ( 0.211027 )\n"
     ]
    }
   ],
   "source": [
    "res = caffe_features.transform(layer_name = 'inception_5b/output', image_paths = image_paths)"
   ]
  },
  {
   "cell_type": "code",
   "execution_count": 16,
   "metadata": {
    "collapsed": false,
    "scrolled": true
   },
   "outputs": [
    {
     "data": {
      "text/html": [
       "<div style=\"max-height:1000px;max-width:1500px;overflow:auto;\">\n",
       "<table border=\"1\" class=\"dataframe\">\n",
       "  <thead>\n",
       "    <tr style=\"text-align: right;\">\n",
       "      <th></th>\n",
       "      <th>inception_5b/output.0</th>\n",
       "      <th>inception_5b/output.1</th>\n",
       "      <th>inception_5b/output.2</th>\n",
       "      <th>inception_5b/output.3</th>\n",
       "      <th>inception_5b/output.4</th>\n",
       "      <th>inception_5b/output.5</th>\n",
       "      <th>inception_5b/output.6</th>\n",
       "      <th>inception_5b/output.7</th>\n",
       "      <th>inception_5b/output.8</th>\n",
       "      <th>inception_5b/output.9</th>\n",
       "      <th>...</th>\n",
       "      <th>inception_5b/output.50166</th>\n",
       "      <th>inception_5b/output.50167</th>\n",
       "      <th>inception_5b/output.50168</th>\n",
       "      <th>inception_5b/output.50169</th>\n",
       "      <th>inception_5b/output.50170</th>\n",
       "      <th>inception_5b/output.50171</th>\n",
       "      <th>inception_5b/output.50172</th>\n",
       "      <th>inception_5b/output.50173</th>\n",
       "      <th>inception_5b/output.50174</th>\n",
       "      <th>inception_5b/output.50175</th>\n",
       "    </tr>\n",
       "  </thead>\n",
       "  <tbody>\n",
       "    <tr>\n",
       "      <th>/usr/local/src/caffe/caffe-master/examples/images/cat.jpg</th>\n",
       "      <td>-0</td>\n",
       "      <td>-0</td>\n",
       "      <td>-0</td>\n",
       "      <td>-0</td>\n",
       "      <td>-0</td>\n",
       "      <td>-0</td>\n",
       "      <td>-0</td>\n",
       "      <td>-0</td>\n",
       "      <td>-0</td>\n",
       "      <td>-0</td>\n",
       "      <td>...</td>\n",
       "      <td>-0</td>\n",
       "      <td>-0</td>\n",
       "      <td>-0</td>\n",
       "      <td>-0</td>\n",
       "      <td>-0</td>\n",
       "      <td>-0</td>\n",
       "      <td>-0</td>\n",
       "      <td>-0</td>\n",
       "      <td>-0</td>\n",
       "      <td>-0</td>\n",
       "    </tr>\n",
       "    <tr>\n",
       "      <th>/home/myazdani/Documents/wifire/interesting/20140702/Q5/1404329745.jpg</th>\n",
       "      <td>-0</td>\n",
       "      <td>-0</td>\n",
       "      <td>-0</td>\n",
       "      <td>-0</td>\n",
       "      <td>-0</td>\n",
       "      <td>-0</td>\n",
       "      <td>-0</td>\n",
       "      <td>-0</td>\n",
       "      <td>-0</td>\n",
       "      <td>-0</td>\n",
       "      <td>...</td>\n",
       "      <td>-0</td>\n",
       "      <td>-0</td>\n",
       "      <td>-0</td>\n",
       "      <td>-0</td>\n",
       "      <td>-0</td>\n",
       "      <td>-0</td>\n",
       "      <td>-0</td>\n",
       "      <td>-0</td>\n",
       "      <td>-0</td>\n",
       "      <td>-0</td>\n",
       "    </tr>\n",
       "  </tbody>\n",
       "</table>\n",
       "<p>2 rows × 50176 columns</p>\n",
       "</div>"
      ],
      "text/plain": [
       "                                                                        inception_5b/output.0  \\\n",
       "/usr/local/src/caffe/caffe-master/examples/images/cat.jpg                                  -0   \n",
       "/home/myazdani/Documents/wifire/interesting/20140702/Q5/1404329745.jpg                     -0   \n",
       "\n",
       "                                                                        inception_5b/output.1  \\\n",
       "/usr/local/src/caffe/caffe-master/examples/images/cat.jpg                                  -0   \n",
       "/home/myazdani/Documents/wifire/interesting/20140702/Q5/1404329745.jpg                     -0   \n",
       "\n",
       "                                                                        inception_5b/output.2  \\\n",
       "/usr/local/src/caffe/caffe-master/examples/images/cat.jpg                                  -0   \n",
       "/home/myazdani/Documents/wifire/interesting/20140702/Q5/1404329745.jpg                     -0   \n",
       "\n",
       "                                                                        inception_5b/output.3  \\\n",
       "/usr/local/src/caffe/caffe-master/examples/images/cat.jpg                                  -0   \n",
       "/home/myazdani/Documents/wifire/interesting/20140702/Q5/1404329745.jpg                     -0   \n",
       "\n",
       "                                                                        inception_5b/output.4  \\\n",
       "/usr/local/src/caffe/caffe-master/examples/images/cat.jpg                                  -0   \n",
       "/home/myazdani/Documents/wifire/interesting/20140702/Q5/1404329745.jpg                     -0   \n",
       "\n",
       "                                                                        inception_5b/output.5  \\\n",
       "/usr/local/src/caffe/caffe-master/examples/images/cat.jpg                                  -0   \n",
       "/home/myazdani/Documents/wifire/interesting/20140702/Q5/1404329745.jpg                     -0   \n",
       "\n",
       "                                                                        inception_5b/output.6  \\\n",
       "/usr/local/src/caffe/caffe-master/examples/images/cat.jpg                                  -0   \n",
       "/home/myazdani/Documents/wifire/interesting/20140702/Q5/1404329745.jpg                     -0   \n",
       "\n",
       "                                                                        inception_5b/output.7  \\\n",
       "/usr/local/src/caffe/caffe-master/examples/images/cat.jpg                                  -0   \n",
       "/home/myazdani/Documents/wifire/interesting/20140702/Q5/1404329745.jpg                     -0   \n",
       "\n",
       "                                                                        inception_5b/output.8  \\\n",
       "/usr/local/src/caffe/caffe-master/examples/images/cat.jpg                                  -0   \n",
       "/home/myazdani/Documents/wifire/interesting/20140702/Q5/1404329745.jpg                     -0   \n",
       "\n",
       "                                                                        inception_5b/output.9  \\\n",
       "/usr/local/src/caffe/caffe-master/examples/images/cat.jpg                                  -0   \n",
       "/home/myazdani/Documents/wifire/interesting/20140702/Q5/1404329745.jpg                     -0   \n",
       "\n",
       "                                                                                ...            \\\n",
       "/usr/local/src/caffe/caffe-master/examples/images/cat.jpg                       ...             \n",
       "/home/myazdani/Documents/wifire/interesting/20140702/Q5/1404329745.jpg          ...             \n",
       "\n",
       "                                                                        inception_5b/output.50166  \\\n",
       "/usr/local/src/caffe/caffe-master/examples/images/cat.jpg                                      -0   \n",
       "/home/myazdani/Documents/wifire/interesting/20140702/Q5/1404329745.jpg                         -0   \n",
       "\n",
       "                                                                        inception_5b/output.50167  \\\n",
       "/usr/local/src/caffe/caffe-master/examples/images/cat.jpg                                      -0   \n",
       "/home/myazdani/Documents/wifire/interesting/20140702/Q5/1404329745.jpg                         -0   \n",
       "\n",
       "                                                                        inception_5b/output.50168  \\\n",
       "/usr/local/src/caffe/caffe-master/examples/images/cat.jpg                                      -0   \n",
       "/home/myazdani/Documents/wifire/interesting/20140702/Q5/1404329745.jpg                         -0   \n",
       "\n",
       "                                                                        inception_5b/output.50169  \\\n",
       "/usr/local/src/caffe/caffe-master/examples/images/cat.jpg                                      -0   \n",
       "/home/myazdani/Documents/wifire/interesting/20140702/Q5/1404329745.jpg                         -0   \n",
       "\n",
       "                                                                        inception_5b/output.50170  \\\n",
       "/usr/local/src/caffe/caffe-master/examples/images/cat.jpg                                      -0   \n",
       "/home/myazdani/Documents/wifire/interesting/20140702/Q5/1404329745.jpg                         -0   \n",
       "\n",
       "                                                                        inception_5b/output.50171  \\\n",
       "/usr/local/src/caffe/caffe-master/examples/images/cat.jpg                                      -0   \n",
       "/home/myazdani/Documents/wifire/interesting/20140702/Q5/1404329745.jpg                         -0   \n",
       "\n",
       "                                                                        inception_5b/output.50172  \\\n",
       "/usr/local/src/caffe/caffe-master/examples/images/cat.jpg                                      -0   \n",
       "/home/myazdani/Documents/wifire/interesting/20140702/Q5/1404329745.jpg                         -0   \n",
       "\n",
       "                                                                        inception_5b/output.50173  \\\n",
       "/usr/local/src/caffe/caffe-master/examples/images/cat.jpg                                      -0   \n",
       "/home/myazdani/Documents/wifire/interesting/20140702/Q5/1404329745.jpg                         -0   \n",
       "\n",
       "                                                                        inception_5b/output.50174  \\\n",
       "/usr/local/src/caffe/caffe-master/examples/images/cat.jpg                                      -0   \n",
       "/home/myazdani/Documents/wifire/interesting/20140702/Q5/1404329745.jpg                         -0   \n",
       "\n",
       "                                                                        inception_5b/output.50175  \n",
       "/usr/local/src/caffe/caffe-master/examples/images/cat.jpg                                      -0  \n",
       "/home/myazdani/Documents/wifire/interesting/20140702/Q5/1404329745.jpg                         -0  \n",
       "\n",
       "[2 rows x 50176 columns]"
      ]
     },
     "execution_count": 16,
     "metadata": {},
     "output_type": "execute_result"
    }
   ],
   "source": [
    "res.head()"
   ]
  },
  {
   "cell_type": "code",
   "execution_count": 17,
   "metadata": {
    "collapsed": false,
    "scrolled": true
   },
   "outputs": [],
   "source": [
    "import numpy as np\n",
    "import matplotlib.pyplot as plt\n",
    "%matplotlib inline\n",
    "\n",
    "\n",
    "plt.rcParams['figure.figsize'] = (10, 10)\n",
    "plt.rcParams['image.interpolation'] = 'nearest'\n",
    "plt.rcParams['image.cmap'] = 'gray'\n"
   ]
  },
  {
   "cell_type": "code",
   "execution_count": 19,
   "metadata": {
    "collapsed": false
   },
   "outputs": [
    {
     "name": "stdout",
     "output_type": "stream",
     "text": [
      "(1024, 7, 7)\n"
     ]
    },
    {
     "data": {
      "image/png": "[encoded data removed]",
      "text/plain": [
       "<matplotlib.figure.Figure at 0x7fd010034750>"
      ]
     },
     "metadata": {},
     "output_type": "display_data"
    }
   ],
   "source": [
    "caffe_features.vis_img_feature(layer_name = 'inception_5b/output', image_path = image_paths[0])"
   ]
  },
  {
   "cell_type": "code",
   "execution_count": null,
   "metadata": {
    "collapsed": true
   },
   "outputs": [],
   "source": []
  },
  {
   "cell_type": "code",
   "execution_count": null,
   "metadata": {
    "collapsed": true
   },
   "outputs": [],
   "source": []
  }
 ],
 "metadata": {
  "kernelspec": {
   "display_name": "Python 2",
   "language": "python",
   "name": "python2"
  },
  "language_info": {
   "codemirror_mode": {
    "name": "ipython",
    "version": 2
   },
   "file_extension": ".py",
   "mimetype": "text/x-python",
   "name": "python",
   "nbconvert_exporter": "python",
   "pygments_lexer": "ipython2",
   "version": "2.7.9"
  }
 },
 "nbformat": 4,
 "nbformat_minor": 0
}
