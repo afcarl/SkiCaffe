{
 "cells": [
  {
   "cell_type": "markdown",
   "metadata": {},
   "source": [
    "# Example of extracting features from a pretrained neural network in Caffe using SkiCaffe"
   ]
  },
  {
   "cell_type": "markdown",
   "metadata": {},
   "source": [
    "SkiCaffe is a wrapper that provides a \"scikit-learn like\" API to pretrained networks such as those distributed in the [Caffe Model Zoo](https://github.com/BVLC/caffe/wiki/Model-Zoo) or elsewhere (such as [DeepDetect](http://www.deepdetect.com/applications/model/)). Basically, I wanted to use these pretrained models for extracting features, but also use the powerful pipelines of scikit-learn. Here we illustrate it's basic use for extracting features. "
   ]
  },
  {
   "cell_type": "code",
   "execution_count": 1,
   "metadata": {
    "collapsed": false
   },
   "outputs": [],
   "source": [
    "from skicaffe import SkiCaffe"
   ]
  },
  {
   "cell_type": "markdown",
   "metadata": {},
   "source": [
    "To use SKiCaffe, we need Caffe so we have to specify where Caffe was installed. We assume that the installation of Caffe is the default one from [BVLC](https://github.com/BVLC/caffe). We specify the location of Caffe on our system with caffe_root:"
   ]
  },
  {
   "cell_type": "code",
   "execution_count": 2,
   "metadata": {
    "collapsed": false
   },
   "outputs": [],
   "source": [
    "caffe_root = '/usr/local/caffe/'\n",
    "model_file = caffe_root + 'models/bvlc_reference_caffenet/bvlc_reference_caffenet.caffemodel'\n",
    "prototxt_file = caffe_root + 'models/bvlc_reference_caffenet/deploy.prototxt'\n",
    "\n",
    "DLmodel = SkiCaffe(caffe_root = caffe_root,\n",
    "                   model_prototxt_path = prototxt_file, \n",
    "                   model_trained_path = model_file, \n",
    "                   include_labels = True,\n",
    "                   return_type = \"pandasDF\")"
   ]
  },
  {
   "cell_type": "markdown",
   "metadata": {},
   "source": [
    "In Scikit-learn parlance, SkiCaffe is an estimator, since it is meant for extracting features from images. Therefore SkiCaffe inherits from the [BaseEstimator](http://scikit-learn.org/stable/modules/generated/sklearn.base.BaseEstimator.html#sklearn.base.BaseEstimator) and [TransformerMixin](http://scikit-learn.org/stable/modules/generated/sklearn.base.TransformerMixin.html#sklearn.base.TransformerMixin) classes. The two methods that we overwrite are the fit and transform methods. SkiCaffe is a bit unusual in that the input data that is transformed is not a numpy array X of shape [n_samples, n_features], but rather the input is a python list of image paths. SkiCaffe takes these image paths and \"transforms\" them by returning features that are derived from a pretrained neural net in Caffe. \n",
    "\n",
    "The fit method loads the specified pretrained network. The transform method takes the list of images paths and returns the image features extracted from a specific layer as a numpy array (or optionally a Pandas Data Frame).  \n",
    "\n",
    "To load the pretrained network, the fit method in SkiCaffe needs the paths for the following two files:\n",
    "- deploy.prototxt file: neural network definition file for prediction\n",
    "- caffemodel file: the trained neural network (for example, bvlc_googlenet.caffemodel)\n",
    "\n",
    "The current setup of SkiCaffe is very ImageNet centric, therefore other supporting files from the default installation of Caffe are used (see documentation for more details and change as needed). \n",
    "\n",
    "\n",
    "\n"
   ]
  },
  {
   "cell_type": "markdown",
   "metadata": {},
   "source": [
    "## Load pretrained BVLC reference model"
   ]
  },
  {
   "cell_type": "markdown",
   "metadata": {
    "collapsed": true
   },
   "source": [
    "In this example we will be using the BVLC reference model and specify the protxt file and trained caffemodel file. We \"fit\" the model by loading the pretrained network. We can also use the layer_sizes attribute of our model to see what the different layers and their sizes are."
   ]
  },
  {
   "cell_type": "code",
   "execution_count": 3,
   "metadata": {
    "collapsed": false,
    "scrolled": true
   },
   "outputs": [
    {
     "name": "stdout",
     "output_type": "stream",
     "text": [
      "caffe imported successfully\n",
      "Number of layers: 15\n"
     ]
    },
    {
     "data": {
      "text/plain": [
       "[('data', (10, 3, 227, 227)),\n",
       " ('conv1', (10, 96, 55, 55)),\n",
       " ('pool1', (10, 96, 27, 27)),\n",
       " ('norm1', (10, 96, 27, 27)),\n",
       " ('conv2', (10, 256, 27, 27)),\n",
       " ('pool2', (10, 256, 13, 13)),\n",
       " ('norm2', (10, 256, 13, 13)),\n",
       " ('conv3', (10, 384, 13, 13)),\n",
       " ('conv4', (10, 384, 13, 13)),\n",
       " ('conv5', (10, 256, 13, 13)),\n",
       " ('pool5', (10, 256, 6, 6)),\n",
       " ('fc6', (10, 4096)),\n",
       " ('fc7', (10, 4096)),\n",
       " ('fc8', (10, 1000)),\n",
       " ('prob', (10, 1000))]"
      ]
     },
     "execution_count": 3,
     "metadata": {},
     "output_type": "execute_result"
    }
   ],
   "source": [
    "DLmodel.fit()\n",
    "print 'Number of layers:', len(DLmodel.layer_sizes)\n",
    "DLmodel.layer_sizes"
   ]
  },
  {
   "cell_type": "markdown",
   "metadata": {},
   "source": [
    "## Specify list of images and extract features"
   ]
  },
  {
   "cell_type": "code",
   "execution_count": 4,
   "metadata": {
    "collapsed": false
   },
   "outputs": [],
   "source": [
    "image_paths = ['./images/cat.jpg', \n",
    "               './images/1404329745.jpg']"
   ]
  },
  {
   "cell_type": "markdown",
   "metadata": {},
   "source": [
    "We can now \"transform\" these images by extracting their features from our pretrained network. All we have to do is specify the layer name (listed above). Here we select the output of the last fully connected layer \"fc8\". If you like Data Frames (like me), then you can optionally specify that the return type be a Pandas Data Frame. "
   ]
  },
  {
   "cell_type": "code",
   "execution_count": 5,
   "metadata": {
    "collapsed": false,
    "scrolled": false
   },
   "outputs": [
    {
     "data": {
      "text/html": [
       "<div>\n",
       "<table border=\"1\" class=\"dataframe\">\n",
       "  <thead>\n",
       "    <tr style=\"text-align: right;\">\n",
       "      <th></th>\n",
       "      <th>pred.class</th>\n",
       "      <th>pred.conf</th>\n",
       "      <th>fc8.0</th>\n",
       "      <th>fc8.1</th>\n",
       "      <th>fc8.2</th>\n",
       "      <th>fc8.3</th>\n",
       "      <th>fc8.4</th>\n",
       "      <th>fc8.5</th>\n",
       "      <th>fc8.6</th>\n",
       "      <th>fc8.7</th>\n",
       "      <th>...</th>\n",
       "      <th>fc8.990</th>\n",
       "      <th>fc8.991</th>\n",
       "      <th>fc8.992</th>\n",
       "      <th>fc8.993</th>\n",
       "      <th>fc8.994</th>\n",
       "      <th>fc8.995</th>\n",
       "      <th>fc8.996</th>\n",
       "      <th>fc8.997</th>\n",
       "      <th>fc8.998</th>\n",
       "      <th>fc8.999</th>\n",
       "    </tr>\n",
       "  </thead>\n",
       "  <tbody>\n",
       "    <tr>\n",
       "      <th>0</th>\n",
       "      <td>n02123045 tabby, tabby cat</td>\n",
       "      <td>0.301984</td>\n",
       "      <td>-3.951654</td>\n",
       "      <td>3.974992</td>\n",
       "      <td>-2.126802</td>\n",
       "      <td>-1.871261</td>\n",
       "      <td>-2.662160</td>\n",
       "      <td>-1.353720</td>\n",
       "      <td>-1.741305</td>\n",
       "      <td>0.325119</td>\n",
       "      <td>...</td>\n",
       "      <td>0.965206</td>\n",
       "      <td>-1.478447</td>\n",
       "      <td>-1.339074</td>\n",
       "      <td>-2.622084</td>\n",
       "      <td>-2.790083</td>\n",
       "      <td>-0.731835</td>\n",
       "      <td>-2.223104</td>\n",
       "      <td>-3.972739</td>\n",
       "      <td>3.412313</td>\n",
       "      <td>5.382214</td>\n",
       "    </tr>\n",
       "    <tr>\n",
       "      <th>1</th>\n",
       "      <td>n09472597 volcano</td>\n",
       "      <td>0.301601</td>\n",
       "      <td>-0.368596</td>\n",
       "      <td>-2.329629</td>\n",
       "      <td>-2.272709</td>\n",
       "      <td>-1.236161</td>\n",
       "      <td>0.337776</td>\n",
       "      <td>-1.146151</td>\n",
       "      <td>0.180243</td>\n",
       "      <td>-1.866235</td>\n",
       "      <td>...</td>\n",
       "      <td>1.175359</td>\n",
       "      <td>0.087868</td>\n",
       "      <td>-0.151791</td>\n",
       "      <td>-2.187589</td>\n",
       "      <td>-1.585882</td>\n",
       "      <td>1.581705</td>\n",
       "      <td>-1.362859</td>\n",
       "      <td>-0.552606</td>\n",
       "      <td>5.315578</td>\n",
       "      <td>-0.433723</td>\n",
       "    </tr>\n",
       "  </tbody>\n",
       "</table>\n",
       "<p>2 rows × 1002 columns</p>\n",
       "</div>"
      ],
      "text/plain": [
       "                   pred.class  pred.conf     fc8.0     fc8.1     fc8.2  \\\n",
       "0  n02123045 tabby, tabby cat   0.301984 -3.951654  3.974992 -2.126802   \n",
       "1           n09472597 volcano   0.301601 -0.368596 -2.329629 -2.272709   \n",
       "\n",
       "      fc8.3     fc8.4     fc8.5     fc8.6     fc8.7    ...      fc8.990  \\\n",
       "0 -1.871261 -2.662160 -1.353720 -1.741305  0.325119    ...     0.965206   \n",
       "1 -1.236161  0.337776 -1.146151  0.180243 -1.866235    ...     1.175359   \n",
       "\n",
       "    fc8.991   fc8.992   fc8.993   fc8.994   fc8.995   fc8.996   fc8.997  \\\n",
       "0 -1.478447 -1.339074 -2.622084 -2.790083 -0.731835 -2.223104 -3.972739   \n",
       "1  0.087868 -0.151791 -2.187589 -1.585882  1.581705 -1.362859 -0.552606   \n",
       "\n",
       "    fc8.998   fc8.999  \n",
       "0  3.412313  5.382214  \n",
       "1  5.315578 -0.433723  \n",
       "\n",
       "[2 rows x 1002 columns]"
      ]
     },
     "execution_count": 5,
     "metadata": {},
     "output_type": "execute_result"
    }
   ],
   "source": [
    "image_features = DLmodel.transform(X = image_paths)\n",
    "image_features.head()"
   ]
  },
  {
   "cell_type": "markdown",
   "metadata": {},
   "source": [
    "Only get the features and use a different layer:"
   ]
  },
  {
   "cell_type": "code",
   "execution_count": 6,
   "metadata": {
    "collapsed": false
   },
   "outputs": [
    {
     "data": {
      "text/html": [
       "<div>\n",
       "<table border=\"1\" class=\"dataframe\">\n",
       "  <thead>\n",
       "    <tr style=\"text-align: right;\">\n",
       "      <th></th>\n",
       "      <th>pred.class</th>\n",
       "      <th>pred.conf</th>\n",
       "      <th>fc7.0</th>\n",
       "      <th>fc7.1</th>\n",
       "      <th>fc7.2</th>\n",
       "      <th>fc7.3</th>\n",
       "      <th>fc7.4</th>\n",
       "      <th>fc7.5</th>\n",
       "      <th>fc7.6</th>\n",
       "      <th>fc7.7</th>\n",
       "      <th>...</th>\n",
       "      <th>fc7.4086</th>\n",
       "      <th>fc7.4087</th>\n",
       "      <th>fc7.4088</th>\n",
       "      <th>fc7.4089</th>\n",
       "      <th>fc7.4090</th>\n",
       "      <th>fc7.4091</th>\n",
       "      <th>fc7.4092</th>\n",
       "      <th>fc7.4093</th>\n",
       "      <th>fc7.4094</th>\n",
       "      <th>fc7.4095</th>\n",
       "    </tr>\n",
       "  </thead>\n",
       "  <tbody>\n",
       "    <tr>\n",
       "      <th>0</th>\n",
       "      <td>n02123045 tabby, tabby cat</td>\n",
       "      <td>0.301984</td>\n",
       "      <td>0.0</td>\n",
       "      <td>0.0</td>\n",
       "      <td>0.0</td>\n",
       "      <td>0.0</td>\n",
       "      <td>0.0</td>\n",
       "      <td>0.0</td>\n",
       "      <td>6.55105</td>\n",
       "      <td>0.0</td>\n",
       "      <td>...</td>\n",
       "      <td>5.213141</td>\n",
       "      <td>4.056163</td>\n",
       "      <td>0.0</td>\n",
       "      <td>0.000000</td>\n",
       "      <td>0.0</td>\n",
       "      <td>1.66966</td>\n",
       "      <td>0.0</td>\n",
       "      <td>0.0</td>\n",
       "      <td>4.885226</td>\n",
       "      <td>6.546407</td>\n",
       "    </tr>\n",
       "    <tr>\n",
       "      <th>1</th>\n",
       "      <td>n09472597 volcano</td>\n",
       "      <td>0.301601</td>\n",
       "      <td>0.0</td>\n",
       "      <td>0.0</td>\n",
       "      <td>0.0</td>\n",
       "      <td>0.0</td>\n",
       "      <td>0.0</td>\n",
       "      <td>0.0</td>\n",
       "      <td>0.00000</td>\n",
       "      <td>0.0</td>\n",
       "      <td>...</td>\n",
       "      <td>0.000000</td>\n",
       "      <td>0.025197</td>\n",
       "      <td>0.0</td>\n",
       "      <td>3.830498</td>\n",
       "      <td>0.0</td>\n",
       "      <td>0.00000</td>\n",
       "      <td>0.0</td>\n",
       "      <td>0.0</td>\n",
       "      <td>0.000000</td>\n",
       "      <td>0.000000</td>\n",
       "    </tr>\n",
       "  </tbody>\n",
       "</table>\n",
       "<p>2 rows × 4098 columns</p>\n",
       "</div>"
      ],
      "text/plain": [
       "                   pred.class  pred.conf  fc7.0  fc7.1  fc7.2  fc7.3  fc7.4  \\\n",
       "0  n02123045 tabby, tabby cat   0.301984    0.0    0.0    0.0    0.0    0.0   \n",
       "1           n09472597 volcano   0.301601    0.0    0.0    0.0    0.0    0.0   \n",
       "\n",
       "   fc7.5    fc7.6  fc7.7    ...     fc7.4086  fc7.4087  fc7.4088  fc7.4089  \\\n",
       "0    0.0  6.55105    0.0    ...     5.213141  4.056163       0.0  0.000000   \n",
       "1    0.0  0.00000    0.0    ...     0.000000  0.025197       0.0  3.830498   \n",
       "\n",
       "   fc7.4090  fc7.4091  fc7.4092  fc7.4093  fc7.4094  fc7.4095  \n",
       "0       0.0   1.66966       0.0       0.0  4.885226  6.546407  \n",
       "1       0.0   0.00000       0.0       0.0  0.000000  0.000000  \n",
       "\n",
       "[2 rows x 4098 columns]"
      ]
     },
     "execution_count": 6,
     "metadata": {},
     "output_type": "execute_result"
    }
   ],
   "source": [
    "DLmodel.include_labels = True\n",
    "image_features = DLmodel.transform(X = image_paths, layer_name='fc7')\n",
    "image_features.head()"
   ]
  },
  {
   "cell_type": "code",
   "execution_count": null,
   "metadata": {
    "collapsed": true
   },
   "outputs": [],
   "source": []
  }
 ],
 "metadata": {
  "kernelspec": {
   "display_name": "Python 2",
   "language": "python",
   "name": "python2"
  },
  "language_info": {
   "codemirror_mode": {
    "name": "ipython",
    "version": 2
   },
   "file_extension": ".py",
   "mimetype": "text/x-python",
   "name": "python",
   "nbconvert_exporter": "python",
   "pygments_lexer": "ipython2",
   "version": "2.7.5"
  }
 },
 "nbformat": 4,
 "nbformat_minor": 0
}
